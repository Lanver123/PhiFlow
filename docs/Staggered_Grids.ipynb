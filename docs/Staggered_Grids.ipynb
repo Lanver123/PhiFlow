{
 "cells": [
  {
   "cell_type": "markdown",
   "metadata": {
    "collapsed": true,
    "pycharm": {
     "name": "#%% md\n"
    }
   },
   "source": [
    "# Staggered grids\n",
    "\n",
    "[![Google Collab Book](https://colab.research.google.com/assets/colab-badge.svg)](https://colab.research.google.com/github/tum-pbs/PhiFlow/blob/develop/docs/Staggered_Grids.ipynb)\n",
    "\n",
    "Staggered grids are a key component of the marker-and-cell (MAC) method \\[Harlow and Welch 1965\\].\n",
    "They sample the velocity components not at the cell centers but in staggered form at the corresponding face centers.\n",
    "Their main advantage is that the divergence of a cell can be computed exactly.\n",
    "\n",
    "Φ<sub>Flow</sub> only stores valid velocity values in memory.\n",
    "This may require non-uniform tensors for the values since the numbers of horizontal and vertical faces are generally not equal.\n",
    "Depending on the boundary conditions, the outer-most values may also be redundant and, thus, not stored.\n",
    "\n",
    "![image](./figures/Staggered.png)\n",
    "\n",
    "Φ<sub>Flow</sub> represents staggered grids as instances of [`StaggeredGrid`](phi/field/#phi.field.StaggeredGrid).\n",
    "They have the same properties as `CenteredGrid` but the `values` field may reference a\n",
    "[non-uniform tensor](https://tum-pbs.github.io/PhiFlow/Math.html#non-uniform-tensors)\n",
    "to reflect the varying number of x, y and z sample points."
   ]
  },
  {
   "cell_type": "code",
   "execution_count": null,
   "outputs": [],
   "source": [
    "# !pip install --quiet phiflow\n",
    "from phi.flow import *\n",
    "\n",
    "grid = StaggeredGrid(0, extrapolation.BOUNDARY, x=10, y=10)\n",
    "grid.values"
   ],
   "metadata": {
    "collapsed": false,
    "pycharm": {
     "name": "#%%\n"
    }
   }
  },
  {
   "cell_type": "markdown",
   "source": [
    "Here, each component of the values tensor has one more sample point in the direction it is facing.\n",
    "If the extrapolation was `extrapolation.ZERO`, it would be one less (see above image)."
   ],
   "metadata": {
    "collapsed": false
   }
  },
  {
   "cell_type": "markdown",
   "source": [
    "## Creating Staggered Grids\n",
    "\n",
    "The [`StaggeredGrid` constructor](phi/field/#phi.field.StaggeredGrid) supports two modes:\n",
    "\n",
    "* **Direct construction** `StaggeredGrid(values: Tensor, extrapolation, bounds)`.\n",
    "  All required fields are passed as arguments and stored as-is.\n",
    "  The `values` tensor must have the correct shape considering the extrapolation.\n",
    "* **Construction by resampling** `StaggeredGrid(values: Any, extrapolation, bounds, resolution, **resolution)`.\n",
    "  When specifying the resolution as a `Shape` or via keyword arguments, non-Tensor values can be passed for `values`,\n",
    "  such as geometries, other fields, constants or functions (see the [documentation](phi/field/#phi.field.StaggeredGrid)).\n",
    "\n",
    "\n",
    "Examples:"
   ],
   "metadata": {
    "collapsed": false
   }
  },
  {
   "cell_type": "code",
   "execution_count": null,
   "outputs": [],
   "source": [
    "domain = dict(x=10, y=10, bounds=Box[0:1, 0:1], extrapolation=extrapolation.ZERO)\n",
    "\n",
    "grid = StaggeredGrid((1, -1), **domain)  # from constant vector\n",
    "grid = StaggeredGrid(Noise(), **domain)  # sample analytic field\n",
    "grid = StaggeredGrid(grid, **domain)  # resample existing field\n",
    "grid = StaggeredGrid(lambda x: math.exp(-x), **domain)  # function value(location)\n",
    "grid = StaggeredGrid(Sphere([0, 0], radius=1), **domain)  # no anti-aliasing\n",
    "grid = StaggeredGrid(SoftGeometryMask(Sphere([0, 0], radius=1)), **domain)  # with anti-aliasing"
   ],
   "metadata": {
    "collapsed": false,
    "pycharm": {
     "name": "#%%\n"
    }
   }
  },
  {
   "cell_type": "markdown",
   "source": [
    "Staggered grids can also be created from other fields using `field.at()` or `@` by passing an existing `StaggeredGrid`.\n",
    "\n",
    "Some field functions also return `StaggeredGrids`:\n",
    "\n",
    "* [`spatial_gradient()`](phi/field/#phi.field.spatial_gradient) with `type=StaggeredGrid`\n",
    "* [`stagger()`](phi/field/#phi.field.stagger)\n"
   ],
   "metadata": {
    "collapsed": false
   }
  },
  {
   "cell_type": "markdown",
   "source": [
    "## Values Tensor\n",
    "For non-periodic staggered grids, the `values` tensor is [non-uniform](https://tum-pbs.github.io/PhiFlow/Math.html#non-uniform-tensors)\n",
    "to reflect the different number of sample points for each component.\n",
    "\n",
    "Functions to get a uniform tensor:\n",
    "\n",
    "* [`at_centers()`](phi/field/#phi.field.StaggeredGrid.at_centers) interpolates the staggered values to the cell centers and returns a `CenteredGrid`\n",
    "* [`staggered_tensor()`](phi/field/#phi.field.StaggeredGrid.staggered_tensor) pads the internal tensor to an invariant shape with n+1 entries along all dimensions.\n"
   ],
   "metadata": {
    "collapsed": false,
    "pycharm": {
     "name": "#%% md\n"
    }
   }
  },
  {
   "cell_type": "markdown",
   "source": [
    "## Slicing\n",
    "Like tensors, grids can be sliced using the standard syntax.\n",
    "When selecting a vector component, such as `x` or `y`, the result is represented as a `CenteredGrid` with shifted locations."
   ],
   "metadata": {
    "collapsed": false
   }
  },
  {
   "cell_type": "code",
   "execution_count": null,
   "outputs": [],
   "source": [
    "grid.vector['x']  # select component"
   ],
   "metadata": {
    "collapsed": false,
    "pycharm": {
     "name": "#%%\n"
    }
   }
  },
  {
   "cell_type": "markdown",
   "source": [
    "Slicing spatial dimensions on grids is different from slicing the `values` tensor directly.\n",
    "Here, a sub-grid is selected.\n",
    "The number of sample points depends on the grid type and extrapolation."
   ],
   "metadata": {
    "collapsed": false,
    "pycharm": {
     "name": "#%% md\n"
    }
   }
  },
  {
   "cell_type": "code",
   "execution_count": null,
   "outputs": [],
   "source": [
    "grid.x[3:4]  # spatial slice"
   ],
   "metadata": {
    "collapsed": false,
    "pycharm": {
     "name": "#%%\n"
    }
   }
  },
  {
   "cell_type": "code",
   "execution_count": null,
   "outputs": [],
   "source": [
    "grid.x[0]  # spatial slice"
   ],
   "metadata": {
    "collapsed": false,
    "pycharm": {
     "name": "#%%\n"
    }
   }
  },
  {
   "cell_type": "markdown",
   "source": [
    "Slicing along batch dimensions has no special effect, this just slices the `values`."
   ],
   "metadata": {
    "collapsed": false
   }
  },
  {
   "cell_type": "code",
   "execution_count": null,
   "outputs": [],
   "source": [
    "grid.batch[0]  # batch slice"
   ],
   "metadata": {
    "collapsed": false,
    "pycharm": {
     "name": "#%%\n"
    }
   }
  },
  {
   "cell_type": "markdown",
   "source": [
    "Fields can also be sliced using [`unstack()`](phi/field/#phi.field.unstack).\n",
    "This returns a `tuple` of all slices along a dimension."
   ],
   "metadata": {
    "collapsed": false,
    "pycharm": {
     "name": "#%% md\n"
    }
   }
  }
 ],
 "metadata": {
  "kernelspec": {
   "display_name": "Python 3",
   "language": "python",
   "name": "python3"
  },
  "language_info": {
   "codemirror_mode": {
    "name": "ipython",
    "version": 2
   },
   "file_extension": ".py",
   "mimetype": "text/x-python",
   "name": "python",
   "nbconvert_exporter": "python",
   "pygments_lexer": "ipython2",
   "version": "2.7.6"
  }
 },
 "nbformat": 4,
 "nbformat_minor": 0
}